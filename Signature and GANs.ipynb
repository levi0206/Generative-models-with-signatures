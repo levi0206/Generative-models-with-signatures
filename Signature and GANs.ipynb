{
 "cells": [
  {
   "attachments": {},
   "cell_type": "markdown",
   "metadata": {},
   "source": [
    "# Part IV: Signature of Path and GAN"
   ]
  },
  {
   "attachments": {},
   "cell_type": "markdown",
   "metadata": {},
   "source": [
    "## Signature of a Path"
   ]
  },
  {
   "attachments": {},
   "cell_type": "markdown",
   "metadata": {},
   "source": [
    "**Notation.** We define \n",
    "$$ \n",
    "T(\\mathbb{R}^d)\\coloneqq\\bigoplus_{k=0}^{\\infty} (\\mathbb{R}^d)^{\\otimes k},\n",
    "$$\n",
    "and\n",
    "$$\n",
    "T^N(\\mathbb{R}^d)\\coloneqq\\bigoplus_{k=0}^{N} (\\mathbb{R}^d)^{\\otimes k}.\n",
    "$$ \n",
    "As vector spaces, $(\\mathbb{R}^d)^{\\otimes k}\\cong\\mathbb{R}^{d^k}$, so we may set \n",
    "$$\n",
    "(\\mathbb{R}^d)^{\\otimes 0}\\coloneqq \\mathbb{R}\n",
    "$$\n",
    "\n",
    "**Definition.** Let $X=(X_1,...,X_d):[a,b]\\to\\mathbb{R}^d$ be a piecewise continuous path. The **signature** of the path $X$ is a sequence of iterated integrals\n",
    "$$\n",
    "S(X)_{[a,b]} = (1,\\mathbf{g}^{1;1},...,\\mathbf{g}^{1;d},\\mathbf{g}^{2;11},...)\n",
    "$$\n",
    "where\n",
    "$$\n",
    "\\mathbf{g}^{k;i_1,...,i_k} \\coloneqq \\int_0^T\\int_0^{u_k}\\dots\\int_0^{u_2} dX_{u_1}^{i_1}\\dots dX_{u_k}^{i_k}\n",
    "$$\n",
    "runs along the set of all multi-indexes\n",
    "$$\n",
    "W = \\{(i_1,...,i_k) | k\\in\\mathbb{N},i_1,...,i_k\\in\\{1,...,d\\}\\}.\n",
    "$$\n",
    "Also, we say $S_N(X)_{[a,b]}$ is a **truncated signature** of degree $N$ if $\\mathbf{g}^{k;i_1,...,i_k}$ runs the set of multi-indexes up to degree $N$\n",
    "$$\n",
    "W_N = \\{(i_1,...,i_k) | k\\leq N,i_1,...,i_k\\in\\{1,...,d\\}\\}. \n",
    "$$\n",
    "Observe that the set of iterated integral\n",
    "$$\n",
    "\\left(\\int_{s<u_1...<u_k<t}dX_{u_1}^{i_1}\\dots dX_{u_k}^{i_k}\\right)_{i_1,...,i_k\\in\\{1,...,d\\}}\n",
    "$$\n",
    "can be written in the tensor form\n",
    "$$\n",
    "\\sum_{i_1,...,i_k=1}^d \\left(\\int_{s<u_1...<u_k<t}dX_{u_1}^{i_1}\\dots dX_{u_k}^{i_k}\\right)\\left(e_{i_1}\\otimes ... \\otimes e_{i_k}\\right) \\in (\\mathbb{R}^d)^{\\otimes k}\n",
    "$$\n",
    "where $\\left(e_{i_1}\\otimes ... \\otimes e_{i_k}\\right)_{i_1,...,i_k=1,...,d}$ is the canonical basis of $(\\mathbb{R}^d)^{\\otimes k}$. In other words, the signature $S(X)_{[a,b]}$ of $X$ takes values in $T(\\mathbb{R}^d)=\\bigoplus_{k=0}^{\\infty} {(\\mathbb{R}^d)^{\\otimes k}}$, and the truncated signature $S_N(X)_{[a,b]}$ of degree $N$ takes values in $T^N(\\mathbb{R}^d)=\\bigoplus_{k=0}^{N} (\\mathbb{R}^d)^{\\otimes k}$. \n"
   ]
  },
  {
   "attachments": {},
   "cell_type": "markdown",
   "metadata": {},
   "source": [
    "### Properties of Signature\n",
    "**Invariance under time reparametrisations** Let $\\psi(t):[a,b]\\to[a,b]$ be a surjective, continuous, non-decreasing function, a reparametrisation. \n",
    "\n",
    "**Theorem (Shuffle product identity)**\n",
    "\n",
    "**Theorem (Chen's identity).**"
   ]
  },
  {
   "attachments": {},
   "cell_type": "markdown",
   "metadata": {},
   "source": [
    "## Sig-WGAN"
   ]
  }
 ],
 "metadata": {
  "language_info": {
   "name": "python"
  },
  "orig_nbformat": 4
 },
 "nbformat": 4,
 "nbformat_minor": 2
}
